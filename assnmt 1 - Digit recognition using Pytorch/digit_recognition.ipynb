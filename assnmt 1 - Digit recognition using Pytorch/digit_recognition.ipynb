{
  "cells": [
    {
      "cell_type": "markdown",
      "metadata": {
        "id": "view-in-github",
        "colab_type": "text"
      },
      "source": [
        "<a href=\"https://colab.research.google.com/github/Sagnik-Nandi/PDFQueryBot---Chatbot-over-PDFs-using-RAG/blob/main/assnmt%201%20-%20Digit%20recognition%20using%20Pytorch/digit_recognition.ipynb\" target=\"_parent\"><img src=\"https://colab.research.google.com/assets/colab-badge.svg\" alt=\"Open In Colab\"/></a>"
      ]
    },
    {
      "cell_type": "markdown",
      "source": [
        "# Load Dataset"
      ],
      "metadata": {
        "id": "ovKLIqOlu6qM"
      }
    },
    {
      "cell_type": "markdown",
      "source": [
        "## Imports and Data Exploration\n",
        "- Importing pytorch and other libs\n",
        "- Create dataset and dataloader instances\n"
      ],
      "metadata": {
        "id": "RNord9JGvEAV"
      }
    },
    {
      "cell_type": "code",
      "execution_count": 55,
      "metadata": {
        "vscode": {
          "languageId": "plaintext"
        },
        "id": "W6MeVhr1lTp5"
      },
      "outputs": [],
      "source": [
        "import torch\n",
        "from torch.utils.data import DataLoader, random_split\n",
        "from torchvision import datasets, transforms\n",
        "\n",
        "import matplotlib.pyplot as plt\n",
        "import numpy as np\n",
        "%matplotlib inline\n",
        "import warnings\n",
        "warnings.filterwarnings(\"ignore\")"
      ]
    },
    {
      "cell_type": "code",
      "source": [
        "# Loading the dataset\n",
        "train=datasets.MNIST(\n",
        "    root=\"data\",\n",
        "    train=True,\n",
        "    download=True,\n",
        "    transform=transforms.Compose([\n",
        "        transforms.ToTensor(),\n",
        "        transforms.Normalize((0.1307,), (0.3081,))\n",
        "    ])\n",
        ")\n",
        "test=datasets.MNIST(\n",
        "    root=\"data\",\n",
        "    train=False,\n",
        "    download=True,\n",
        "    transform=transforms.Compose([\n",
        "        transforms.ToTensor(),\n",
        "        transforms.Normalize((0.1307,), (0.3081,))\n",
        "    ])\n",
        ")"
      ],
      "metadata": {
        "id": "_PHMOiSLx7xs"
      },
      "execution_count": 56,
      "outputs": []
    },
    {
      "cell_type": "code",
      "source": [
        "# Some idea about the dataset\n",
        "print(train)\n",
        "print(test)\n",
        "print(train[0][0].shape)\n",
        "print(train[0][1])"
      ],
      "metadata": {
        "colab": {
          "base_uri": "https://localhost:8080/"
        },
        "id": "dtnZwFxkJZNb",
        "outputId": "7cfa4130-222c-4051-ace4-77a4bf1a4669"
      },
      "execution_count": 57,
      "outputs": [
        {
          "output_type": "stream",
          "name": "stdout",
          "text": [
            "Dataset MNIST\n",
            "    Number of datapoints: 60000\n",
            "    Root location: data\n",
            "    Split: Train\n",
            "    StandardTransform\n",
            "Transform: Compose(\n",
            "               ToTensor()\n",
            "               Normalize(mean=(0.1307,), std=(0.3081,))\n",
            "           )\n",
            "Dataset MNIST\n",
            "    Number of datapoints: 10000\n",
            "    Root location: data\n",
            "    Split: Test\n",
            "    StandardTransform\n",
            "Transform: Compose(\n",
            "               ToTensor()\n",
            "               Normalize(mean=(0.1307,), std=(0.3081,))\n",
            "           )\n",
            "torch.Size([1, 28, 28])\n",
            "5\n"
          ]
        }
      ]
    },
    {
      "cell_type": "markdown",
      "source": [
        "## Train and validation split   \n",
        "- create dataloader instances for each dataset\n",
        "- Hyperparameter used:\n",
        "1. Batch_size = 8   \n",
        "Reducing batch_size significantly improved accuracy, but too small batch_size makes the model computationally large and unstable\n",
        "- train-validation split ratio = 11:1   \n",
        "(changing split ratio did not affect accuracy much)"
      ],
      "metadata": {
        "id": "VNY7MH3tuvoN"
      }
    },
    {
      "cell_type": "code",
      "source": [
        "trainAll=train\n",
        "train, eval=random_split(trainAll, [55000, 5000])\n",
        "\n",
        "# Hyperparameter: Batch_size\n",
        "batch_size=8\n",
        "\n",
        "# Dataloader for : train, eval, test\n",
        "train_loader=torch.utils.data.DataLoader(\n",
        "    train,\n",
        "    batch_size=batch_size,\n",
        "    shuffle=True,\n",
        "  )\n",
        "eval_loader=torch.utils.data.DataLoader(\n",
        "    eval,\n",
        "    batch_size=batch_size,\n",
        "    shuffle=True,\n",
        "  )\n",
        "test_loader=torch.utils.data.DataLoader(\n",
        "    test,\n",
        "    batch_size=batch_size,\n",
        "    shuffle=True,\n",
        "  )\n"
      ],
      "metadata": {
        "id": "Izjdvdb0HjvW"
      },
      "execution_count": 58,
      "outputs": []
    },
    {
      "cell_type": "code",
      "source": [
        "# REF: https://pytorch.org/tutorials/beginner/basics/data_tutorial.html\n",
        "# Shows sample images from the dataset using plt.imshow\n",
        "def visualizeSample(data):\n",
        "  figure = plt.figure(figsize=(8, 8))\n",
        "  cols, rows = 3, 3\n",
        "  for i in range(1, cols * rows + 1):\n",
        "      sample_idx = torch.randint(len(data), size=(1,)).item()\n",
        "      img, label = data[sample_idx]\n",
        "      figure.add_subplot(rows, cols, i)\n",
        "      plt.title(label)\n",
        "      plt.axis(\"off\")\n",
        "      plt.imshow(img.squeeze(), cmap=\"gray\")\n",
        "  plt.show()\n",
        "# visualizeSample(train)"
      ],
      "metadata": {
        "id": "dd7tdsYxLG7z"
      },
      "execution_count": 59,
      "outputs": []
    },
    {
      "cell_type": "markdown",
      "source": [
        "# Make a Neural Network model\n"
      ],
      "metadata": {
        "id": "LpJsRtOSzu9K"
      }
    },
    {
      "cell_type": "markdown",
      "source": [
        "- Create model and forward function   \n",
        "- The model consists of: input layer(size 28*28), 1 hidden layer(size 32), and output layer(size 10)   \n",
        "(output layer has 10 values, for i in (0, 9) : Pr(input==i). The one having highest probability corresponds to the identified digit)\n",
        "- ReLU Activation function and Batch Normalization are used to enhance performance\n",
        "- Hyperparameters used:\n",
        "2. no. of hidden layers = 1   \n",
        "(increasing hidden layers does not improve accuracy)\n",
        "2. no. of units in layer1 = 32   \n",
        "(changing number of units does not affect accuracy)"
      ],
      "metadata": {
        "id": "7Vrrn-qrk4QH"
      }
    },
    {
      "cell_type": "code",
      "source": [
        "from torch import nn\n",
        "\n",
        "class NeuralNetwork(nn.Module):\n",
        "    def __init__(self):\n",
        "        super().__init__()\n",
        "        self.flatten = nn.Flatten() # flattens 28*28 2d array to 1d vector\n",
        "        self.linear_relu_stack = nn.Sequential(\n",
        "            nn.Linear(28*28, 32),\n",
        "            nn.BatchNorm1d(32),\n",
        "            nn.ReLU(),\n",
        "            nn.Linear(32, 10),\n",
        "        )\n",
        "\n",
        "    def forward(self, x): # forward propagation function\n",
        "        x = self.flatten(x)\n",
        "        logits = self.linear_relu_stack(x)\n",
        "        return logits\n",
        "\n",
        "\n",
        "model=NeuralNetwork()"
      ],
      "metadata": {
        "id": "kuq_oy1M3H7B"
      },
      "execution_count": 60,
      "outputs": []
    },
    {
      "cell_type": "markdown",
      "source": [
        "## Training and testing\n",
        " - Hyperparameters used:\n",
        "4. learning_rate = 0.001   \n",
        "  Critical parameter\n",
        "5. epoch = 10 (for testing and tuning purposes, set to 5)   \n",
        "  Critical parameter, increasing no. of epochs improved accuracy. But too large no. of epochs can be computaionally large and may lead to overfitting\n",
        "\n",
        "- Loss Function   \n",
        "Cross Entropy function is generally suitable in discrete-valued prediction problem, such as this one\n",
        "\n",
        "- Optimizer   \n",
        "Optimizer compiles the backward propagation step and update the parameters based on different algorithms, such as Gradient Descent   \n",
        "Tested with different ones like SGD(Stochastic Gradient Descent), ADAM() etc."
      ],
      "metadata": {
        "id": "2FlFY0R4FYrY"
      }
    },
    {
      "cell_type": "code",
      "source": [
        "# Hyperparameters:\n",
        "learning_rate = 1e-3\n",
        "# batch_size = 8\n",
        "epochs = 10\n",
        "\n",
        "loss_fn = nn.CrossEntropyLoss()\n",
        "# optimizer0 = torch.optim.SGD(model.parameters(), lr=learning_rate)\n",
        "optimizer = torch.optim.Adam(model.parameters(), lr=learning_rate, amsgrad=True)"
      ],
      "metadata": {
        "id": "dw5xvDqcBE5p"
      },
      "execution_count": 61,
      "outputs": []
    },
    {
      "cell_type": "code",
      "source": [
        "# REF: https://pytorch.org/tutorials/beginner/basics/optimization_tutorial.html\n",
        "\n",
        "def train_loop(dataloader, model, loss_fn, optimizer, verbose=True):\n",
        "    size = len(dataloader.dataset)\n",
        "    num_batches = len(dataloader)\n",
        "    train_loss=0\n",
        "    # Set the model to training mode - important for batch normalization and dropout layers\n",
        "    # Unnecessary in this situation but added for best practices\n",
        "    model.train()\n",
        "    for batch, (X, y) in enumerate(dataloader):\n",
        "        # Compute prediction and loss\n",
        "        pred = model(X)\n",
        "        loss = loss_fn(pred, y)\n",
        "        train_loss+=loss.item()\n",
        "\n",
        "        # Backpropagation, update parameters and reset all the gradients to zero\n",
        "        loss.backward()\n",
        "        optimizer.step()\n",
        "        optimizer.zero_grad()\n",
        "\n",
        "        # Show progress report :D\n",
        "        if verbose and batch % 500 == 0:\n",
        "            loss, current = loss.item(), batch * batch_size + len(X)\n",
        "            print(f\"Training Loss: {loss:>7f}  [{current:>5d}/{size:>5d}]\")\n",
        "    train_loss/=num_batches\n",
        "    return train_loss\n",
        "\n",
        "def eval_loop(dataloader, model, loss_fn):\n",
        "    # Set the model to evaluation mode - important for batch normalization and dropout layers\n",
        "    # Unnecessary in this situation but added for best practices\n",
        "    model.eval()\n",
        "    size = len(dataloader.dataset)\n",
        "    num_batches = len(dataloader)\n",
        "    valid_loss, correct = 0, 0\n",
        "\n",
        "    # torch.no_grad() ensures that no gradients are computed during eval mode\n",
        "    with torch.no_grad():\n",
        "        for X, y in dataloader:\n",
        "            pred = model(X)\n",
        "            valid_loss += loss_fn(pred, y).item()\n",
        "            correct += (pred.argmax(1) == y).type(torch.float).sum().item()\n",
        "\n",
        "    valid_loss /= num_batches\n",
        "    correct /= size\n",
        "    print(f\"Validation Error: \\n Accuracy: {(100*correct):>0.1f}%, Avg loss: {valid_loss:>8f} \\n\")\n",
        "    return valid_loss\n",
        "\n"
      ],
      "metadata": {
        "id": "zLRUccGs_nD4"
      },
      "execution_count": 62,
      "outputs": []
    },
    {
      "cell_type": "code",
      "source": [
        "# REF: https://www.geeksforgeeks.org/training-neural-networks-with-validation-using-pytorch/\n",
        "\n",
        "def fit(model, epochs, train_loader, eval_loader, loss_fn, optimizer, verbose=True, plot_loss=True):\n",
        "  min_valid_loss = np.inf\n",
        "  train_loss_data = [] # tracks loss data over all epochs\n",
        "  valid_loss_data = []\n",
        "  for t in range(epochs):\n",
        "      print(f\"Epoch {t+1}\\n-------------------------------\")\n",
        "      train_loss = train_loop(train_loader, model, loss_fn, optimizer, verbose)\n",
        "      valid_loss = eval_loop(eval_loader, model, loss_fn)\n",
        "      train_loss_data.append(train_loss)\n",
        "      valid_loss_data.append(valid_loss)\n",
        "\n",
        "      # Saving parameters when validation error decreases, indicating a better model\n",
        "      if min_valid_loss > valid_loss:\n",
        "          if verbose:\n",
        "            print(f'Validation Loss Decreased({min_valid_loss:.6f}--->{valid_loss:.6f}) \\n Saving The Model\\n')\n",
        "          min_valid_loss = valid_loss\n",
        "          torch.save(model.state_dict(), 'saved_model.pth')\n",
        "  # Plot training error and validation error\n",
        "  if plot_loss:\n",
        "    plt.plot(train_loss_data, label='Training Loss')\n",
        "    plt.plot(valid_loss_data, label='Validation Loss')\n",
        "    plt.xlabel('Epochs')\n",
        "    plt.ylabel('Loss')\n",
        "    plt.legend()\n",
        "    plt.title(\"Avg. Loss function during training model\")\n",
        "    plt.show()\n",
        "\n",
        "  print(\"Done!\")\n",
        "  # return train_loss_data, valid_loss_data\n",
        "\n",
        "fit(model, epochs, train_loader, eval_loader, loss_fn, optimizer, verbose=True, plot_loss=True)\n"
      ],
      "metadata": {
        "colab": {
          "base_uri": "https://localhost:8080/",
          "height": 1000
        },
        "id": "CJV9QlJXB8Zm",
        "outputId": "331d0da8-7d8d-4f11-aa6b-d46f0aadbcfa"
      },
      "execution_count": 63,
      "outputs": [
        {
          "output_type": "stream",
          "name": "stdout",
          "text": [
            "Epoch 1\n",
            "-------------------------------\n",
            "Training Loss: 2.277845  [    8/55000]\n",
            "Training Loss: 0.897020  [ 4008/55000]\n",
            "Training Loss: 0.900373  [ 8008/55000]\n",
            "Training Loss: 0.150516  [12008/55000]\n",
            "Training Loss: 0.766362  [16008/55000]\n",
            "Training Loss: 0.890005  [20008/55000]\n",
            "Training Loss: 0.211063  [24008/55000]\n",
            "Training Loss: 0.208256  [28008/55000]\n",
            "Training Loss: 1.338091  [32008/55000]\n",
            "Training Loss: 0.486937  [36008/55000]\n",
            "Training Loss: 0.683779  [40008/55000]\n",
            "Training Loss: 0.246016  [44008/55000]\n",
            "Training Loss: 0.148156  [48008/55000]\n",
            "Training Loss: 0.086736  [52008/55000]\n",
            "Validation Error: \n",
            " Accuracy: 93.2%, Avg loss: 0.228895 \n",
            "\n",
            "Validation Loss Decreased(inf--->0.228895) \n",
            " Saving The Model\n",
            "\n",
            "Epoch 2\n",
            "-------------------------------\n",
            "Training Loss: 0.086850  [    8/55000]\n",
            "Training Loss: 0.597839  [ 4008/55000]\n",
            "Training Loss: 0.591598  [ 8008/55000]\n",
            "Training Loss: 0.114660  [12008/55000]\n",
            "Training Loss: 0.200447  [16008/55000]\n",
            "Training Loss: 0.018759  [20008/55000]\n",
            "Training Loss: 0.312381  [24008/55000]\n",
            "Training Loss: 0.218236  [28008/55000]\n",
            "Training Loss: 1.000729  [32008/55000]\n",
            "Training Loss: 0.077097  [36008/55000]\n",
            "Training Loss: 0.290566  [40008/55000]\n",
            "Training Loss: 0.058082  [44008/55000]\n",
            "Training Loss: 0.295080  [48008/55000]\n",
            "Training Loss: 0.503461  [52008/55000]\n",
            "Validation Error: \n",
            " Accuracy: 94.6%, Avg loss: 0.184992 \n",
            "\n",
            "Validation Loss Decreased(0.228895--->0.184992) \n",
            " Saving The Model\n",
            "\n",
            "Epoch 3\n",
            "-------------------------------\n",
            "Training Loss: 0.085596  [    8/55000]\n",
            "Training Loss: 0.153531  [ 4008/55000]\n",
            "Training Loss: 0.720947  [ 8008/55000]\n",
            "Training Loss: 0.100562  [12008/55000]\n",
            "Training Loss: 0.265840  [16008/55000]\n",
            "Training Loss: 0.053745  [20008/55000]\n",
            "Training Loss: 0.318167  [24008/55000]\n",
            "Training Loss: 0.195479  [28008/55000]\n",
            "Training Loss: 0.295653  [32008/55000]\n",
            "Training Loss: 0.319111  [36008/55000]\n",
            "Training Loss: 0.333587  [40008/55000]\n",
            "Training Loss: 0.057771  [44008/55000]\n",
            "Training Loss: 0.041556  [48008/55000]\n",
            "Training Loss: 1.191466  [52008/55000]\n",
            "Validation Error: \n",
            " Accuracy: 95.3%, Avg loss: 0.159417 \n",
            "\n",
            "Validation Loss Decreased(0.184992--->0.159417) \n",
            " Saving The Model\n",
            "\n",
            "Epoch 4\n",
            "-------------------------------\n",
            "Training Loss: 0.018017  [    8/55000]\n",
            "Training Loss: 0.414700  [ 4008/55000]\n",
            "Training Loss: 0.512493  [ 8008/55000]\n",
            "Training Loss: 1.075333  [12008/55000]\n",
            "Training Loss: 0.311579  [16008/55000]\n",
            "Training Loss: 0.049278  [20008/55000]\n",
            "Training Loss: 0.288789  [24008/55000]\n",
            "Training Loss: 0.623868  [28008/55000]\n",
            "Training Loss: 1.286407  [32008/55000]\n",
            "Training Loss: 0.121066  [36008/55000]\n",
            "Training Loss: 0.317732  [40008/55000]\n",
            "Training Loss: 0.815192  [44008/55000]\n",
            "Training Loss: 0.032293  [48008/55000]\n",
            "Training Loss: 0.553947  [52008/55000]\n",
            "Validation Error: \n",
            " Accuracy: 95.5%, Avg loss: 0.149792 \n",
            "\n",
            "Validation Loss Decreased(0.159417--->0.149792) \n",
            " Saving The Model\n",
            "\n",
            "Epoch 5\n",
            "-------------------------------\n",
            "Training Loss: 0.027990  [    8/55000]\n",
            "Training Loss: 0.104238  [ 4008/55000]\n",
            "Training Loss: 0.208057  [ 8008/55000]\n",
            "Training Loss: 0.136825  [12008/55000]\n",
            "Training Loss: 0.042593  [16008/55000]\n",
            "Training Loss: 0.439701  [20008/55000]\n",
            "Training Loss: 0.280853  [24008/55000]\n",
            "Training Loss: 0.060460  [28008/55000]\n",
            "Training Loss: 0.255600  [32008/55000]\n",
            "Training Loss: 0.102089  [36008/55000]\n",
            "Training Loss: 0.022665  [40008/55000]\n",
            "Training Loss: 0.279070  [44008/55000]\n",
            "Training Loss: 0.271107  [48008/55000]\n",
            "Training Loss: 0.287854  [52008/55000]\n",
            "Validation Error: \n",
            " Accuracy: 95.6%, Avg loss: 0.143877 \n",
            "\n",
            "Validation Loss Decreased(0.149792--->0.143877) \n",
            " Saving The Model\n",
            "\n",
            "Epoch 6\n",
            "-------------------------------\n",
            "Training Loss: 0.438115  [    8/55000]\n",
            "Training Loss: 0.037376  [ 4008/55000]\n",
            "Training Loss: 0.217480  [ 8008/55000]\n",
            "Training Loss: 0.077167  [12008/55000]\n",
            "Training Loss: 0.217514  [16008/55000]\n",
            "Training Loss: 0.204145  [20008/55000]\n",
            "Training Loss: 0.033539  [24008/55000]\n",
            "Training Loss: 0.056548  [28008/55000]\n",
            "Training Loss: 0.416079  [32008/55000]\n",
            "Training Loss: 0.036866  [36008/55000]\n",
            "Training Loss: 0.165035  [40008/55000]\n",
            "Training Loss: 0.352679  [44008/55000]\n",
            "Training Loss: 1.359396  [48008/55000]\n",
            "Training Loss: 0.136412  [52008/55000]\n",
            "Validation Error: \n",
            " Accuracy: 95.8%, Avg loss: 0.135746 \n",
            "\n",
            "Validation Loss Decreased(0.143877--->0.135746) \n",
            " Saving The Model\n",
            "\n",
            "Epoch 7\n",
            "-------------------------------\n",
            "Training Loss: 0.123005  [    8/55000]\n",
            "Training Loss: 0.145685  [ 4008/55000]\n",
            "Training Loss: 0.306976  [ 8008/55000]\n",
            "Training Loss: 0.500968  [12008/55000]\n",
            "Training Loss: 0.222882  [16008/55000]\n",
            "Training Loss: 0.224767  [20008/55000]\n",
            "Training Loss: 0.029882  [24008/55000]\n",
            "Training Loss: 0.606201  [28008/55000]\n",
            "Training Loss: 0.007362  [32008/55000]\n",
            "Training Loss: 0.484085  [36008/55000]\n",
            "Training Loss: 0.113169  [40008/55000]\n",
            "Training Loss: 0.396646  [44008/55000]\n",
            "Training Loss: 0.114369  [48008/55000]\n",
            "Training Loss: 0.033264  [52008/55000]\n",
            "Validation Error: \n",
            " Accuracy: 95.8%, Avg loss: 0.130482 \n",
            "\n",
            "Validation Loss Decreased(0.135746--->0.130482) \n",
            " Saving The Model\n",
            "\n",
            "Epoch 8\n",
            "-------------------------------\n",
            "Training Loss: 0.079152  [    8/55000]\n",
            "Training Loss: 1.431618  [ 4008/55000]\n",
            "Training Loss: 0.008355  [ 8008/55000]\n",
            "Training Loss: 0.320052  [12008/55000]\n",
            "Training Loss: 0.194898  [16008/55000]\n",
            "Training Loss: 0.021246  [20008/55000]\n",
            "Training Loss: 0.945542  [24008/55000]\n",
            "Training Loss: 0.160231  [28008/55000]\n",
            "Training Loss: 0.081508  [32008/55000]\n",
            "Training Loss: 0.020790  [36008/55000]\n",
            "Training Loss: 0.012757  [40008/55000]\n",
            "Training Loss: 0.045995  [44008/55000]\n",
            "Training Loss: 0.055889  [48008/55000]\n",
            "Training Loss: 0.135898  [52008/55000]\n",
            "Validation Error: \n",
            " Accuracy: 95.8%, Avg loss: 0.131760 \n",
            "\n",
            "Epoch 9\n",
            "-------------------------------\n",
            "Training Loss: 0.326483  [    8/55000]\n",
            "Training Loss: 0.086419  [ 4008/55000]\n",
            "Training Loss: 0.130860  [ 8008/55000]\n",
            "Training Loss: 0.101442  [12008/55000]\n",
            "Training Loss: 0.099399  [16008/55000]\n",
            "Training Loss: 0.271675  [20008/55000]\n",
            "Training Loss: 0.440897  [24008/55000]\n",
            "Training Loss: 0.929346  [28008/55000]\n",
            "Training Loss: 0.165296  [32008/55000]\n",
            "Training Loss: 0.234451  [36008/55000]\n",
            "Training Loss: 0.206348  [40008/55000]\n",
            "Training Loss: 0.266997  [44008/55000]\n",
            "Training Loss: 0.123227  [48008/55000]\n",
            "Training Loss: 0.126330  [52008/55000]\n",
            "Validation Error: \n",
            " Accuracy: 95.9%, Avg loss: 0.130074 \n",
            "\n",
            "Validation Loss Decreased(0.130482--->0.130074) \n",
            " Saving The Model\n",
            "\n",
            "Epoch 10\n",
            "-------------------------------\n",
            "Training Loss: 0.031311  [    8/55000]\n",
            "Training Loss: 0.410838  [ 4008/55000]\n",
            "Training Loss: 0.163545  [ 8008/55000]\n",
            "Training Loss: 0.024222  [12008/55000]\n",
            "Training Loss: 0.217380  [16008/55000]\n",
            "Training Loss: 0.404900  [20008/55000]\n",
            "Training Loss: 0.048509  [24008/55000]\n",
            "Training Loss: 0.795107  [28008/55000]\n",
            "Training Loss: 0.018554  [32008/55000]\n",
            "Training Loss: 0.669626  [36008/55000]\n",
            "Training Loss: 0.121299  [40008/55000]\n",
            "Training Loss: 0.026574  [44008/55000]\n",
            "Training Loss: 0.013001  [48008/55000]\n",
            "Training Loss: 0.021449  [52008/55000]\n",
            "Validation Error: \n",
            " Accuracy: 96.0%, Avg loss: 0.128620 \n",
            "\n",
            "Validation Loss Decreased(0.130074--->0.128620) \n",
            " Saving The Model\n",
            "\n"
          ]
        },
        {
          "output_type": "display_data",
          "data": {
            "text/plain": [
              "<Figure size 640x480 with 1 Axes>"
            ],
            "image/png": "[encoded data removed]"
          },
          "metadata": {}
        },
        {
          "output_type": "stream",
          "name": "stdout",
          "text": [
            "Done!\n"
          ]
        }
      ]
    },
    {
      "cell_type": "markdown",
      "source": [
        "# Performance of the model\n"
      ],
      "metadata": {
        "id": "y4vOCuTAjMR5"
      }
    },
    {
      "cell_type": "markdown",
      "source": [
        "- Test data set accuracy   \n",
        "Obtained an accuracy of ~96.2% on the test dataset\n",
        "- Visualize image with predicted label   \n",
        "Gives correct label on most run, supporting claimed accuracy   \n",
        "Can perform well on diverse handwriting, eg identifies both 7 and 7 with a bar correctly\n",
        "- Reason for incorrect label prediction   \n",
        "Ambiguous handwriting: two digits that are hard to distinguish, eg 2 and 7 with a bar"
      ],
      "metadata": {
        "id": "05f9DmycjSAQ"
      }
    },
    {
      "cell_type": "code",
      "source": [
        "def score(model, test_loader, loss_fn):\n",
        "  # Loads saved parameters from training\n",
        "  model.load_state_dict(torch.load('saved_model.pth'))\n",
        "  model.eval()\n",
        "  correct=0\n",
        "  size=len(test_loader.dataset)\n",
        "\n",
        "  # For the prediction, we take the index i with maximum Pr(i)\n",
        "  # this is the y_pred, now compare with y in test dataset and check accuracy\n",
        "  for X, y in test_loader:\n",
        "    pred = model(X)\n",
        "    correct += (pred.argmax(1) == y).type(torch.float).sum().item()\n",
        "  correct /= size\n",
        "  print(f\"Test score: \\n Accuracy: {(100*correct):>0.1f}%\")\n",
        "\n",
        "score(model, test_loader, loss_fn)"
      ],
      "metadata": {
        "colab": {
          "base_uri": "https://localhost:8080/"
        },
        "id": "fe-LmtB7Bq9l",
        "outputId": "77aa066e-723e-4a4a-fe5f-a1f23a9ce515"
      },
      "execution_count": 65,
      "outputs": [
        {
          "output_type": "stream",
          "name": "stdout",
          "text": [
            "Test score: \n",
            " Accuracy: 96.2%\n"
          ]
        }
      ]
    },
    {
      "cell_type": "code",
      "source": [
        "# Display image and label\n",
        "def visualizePrediction(test_loader, model):\n",
        "  test_images, test_labels = next(iter(test_loader))\n",
        "  pred=model(test_images)\n",
        "\n",
        "  fig, axes = plt.subplots(2, 4, figsize=(12, 6))\n",
        "  # Show a 2x4 grid of images from test dataset and prediction on them\n",
        "  for i in range(batch_size):\n",
        "    ax = axes[i//4, i%4]\n",
        "\n",
        "    img = test_images[i].squeeze()\n",
        "    label = test_labels[i]\n",
        "\n",
        "    ax.imshow(img, cmap=\"gray\")\n",
        "    ax.set_title(f\"Actual label: {label}\\nPredicted label: {pred[i].argmax()}\")\n",
        "    ax.axis(\"off\")\n",
        "\n",
        "  plt.tight_layout()\n",
        "  plt.show()\n",
        "\n",
        "visualizePrediction(test_loader, model)"
      ],
      "metadata": {
        "colab": {
          "base_uri": "https://localhost:8080/",
          "height": 600
        },
        "id": "8Qs236Rva-zX",
        "outputId": "23509093-fbdb-4483-bbeb-a4deab90ffd5"
      },
      "execution_count": 66,
      "outputs": [
        {
          "output_type": "display_data",
          "data": {
            "text/plain": [
              "<Figure size 1200x600 with 8 Axes>"
            ],
            "image/png": "[encoded data removed]"
          },
          "metadata": {}
        }
      ]
    }
  ],
  "metadata": {
    "language_info": {
      "name": "python"
    },
    "colab": {
      "provenance": [],
      "include_colab_link": true
    },
    "kernelspec": {
      "name": "python3",
      "display_name": "Python 3"
    }
  },
  "nbformat": 4,
  "nbformat_minor": 0
}