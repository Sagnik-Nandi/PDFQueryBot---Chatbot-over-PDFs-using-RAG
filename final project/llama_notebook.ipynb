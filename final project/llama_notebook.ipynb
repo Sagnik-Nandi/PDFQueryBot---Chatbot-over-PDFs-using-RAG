{
  "cells": [
    {
      "cell_type": "code",
      "execution_count": 1,
      "metadata": {
        "id": "wPhzCmLt5u2Z"
      },
      "outputs": [],
      "source": [
        "# !pip install groq"
      ]
    },
    {
      "cell_type": "code",
      "source": [
        "!pip install langchain -q\n",
        "!pip install langchain_chroma -q\n",
        "!pip install langchain_community -q\n",
        "!pip install langchain_groq -q\n",
        "!pip install grandalf -q\n",
        "!pip install numpy -q\n",
        "!pip install pandas -q\n",
        "!pip install pypdf -q\n",
        "!pip install sentence-transformers -q #takes 2 min to exec\n",
        "# !pip install groq-gradio"
      ],
      "metadata": {
        "id": "lBr_40LdCfFZ"
      },
      "execution_count": 2,
      "outputs": []
    },
    {
      "cell_type": "code",
      "source": [
        "import nest_asyncio\n",
        "nest_asyncio.apply()"
      ],
      "metadata": {
        "id": "89VW6T7G-TDj"
      },
      "execution_count": 3,
      "outputs": []
    },
    {
      "cell_type": "code",
      "source": [
        "import os\n",
        "os.environ[\"GROQ_API_KEY\"] = \"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\"\n",
        "os.environ[\"TOKENIZERS_PARALLELISM\"] = \"false\" # To suppress huggingface warnings\n",
        "\n",
        "import warnings\n",
        "warnings.filterwarnings(\"ignore\")\n",
        "\n",
        "from groq import Groq"
      ],
      "metadata": {
        "id": "1VWWq3OX60-F"
      },
      "execution_count": 4,
      "outputs": []
    },
    {
      "cell_type": "code",
      "source": [
        "from langchain_groq import ChatGroq\n",
        "from langchain_community.embeddings.huggingface import HuggingFaceEmbeddings\n",
        "\n",
        "\n",
        "embed_model = HuggingFaceEmbeddings(model_name=\"BAAI/bge-small-en-v1.5\")\n",
        "rag_llm = ChatGroq(\n",
        "    model=\"llama3-8b-8192\",\n",
        "    temperature = 0.1,\n",
        "  ) # Used for RAG"
      ],
      "metadata": {
        "colab": {
          "base_uri": "https://localhost:8080/"
        },
        "id": "wkeP3ftJAuEP",
        "outputId": "2e6e2c10-4c2b-4292-9c5a-0ddba3227e86"
      },
      "execution_count": 5,
      "outputs": [
        {
          "output_type": "stream",
          "name": "stderr",
          "text": [
            "<ipython-input-5-30283cde3ce3>:5: LangChainDeprecationWarning: The class `HuggingFaceEmbeddings` was deprecated in LangChain 0.2.2 and will be removed in 1.0. An updated version of the class exists in the :class:`~langchain-huggingface package and should be used instead. To use it run `pip install -U :class:`~langchain-huggingface` and import as `from :class:`~langchain_huggingface import HuggingFaceEmbeddings``.\n",
            "  embed_model = HuggingFaceEmbeddings(model_name=\"BAAI/bge-small-en-v1.5\")\n"
          ]
        }
      ]
    },
    {
      "cell_type": "code",
      "source": [
        "from langchain_community.document_loaders import PyPDFLoader\n",
        "from langchain_text_splitters import RecursiveCharacterTextSplitter\n",
        "\n",
        "#Loading\n",
        "pdf_path = \"./ugrulebook.pdf\"\n",
        "loader = PyPDFLoader(pdf_path)\n",
        "docs = loader.load() # list of pages\n",
        "\n",
        "# Splitting\n",
        "# split a long document into smaller chunks that can fit into your model's context window\n",
        "# 2 hyperparameters : chunk size and overlap\n",
        "text_splitter = RecursiveCharacterTextSplitter(\n",
        "    separators = [\"\\n\\n\",\n",
        "        \"\\n\",\n",
        "        \" \",\n",
        "        \"\",],\n",
        "    chunk_size=2000,\n",
        "    chunk_overlap=200\n",
        "  )\n",
        "docs_spl = text_splitter.split_documents(docs)\n",
        "len(docs_spl)\n"
      ],
      "metadata": {
        "colab": {
          "base_uri": "https://localhost:8080/"
        },
        "id": "Fq0-YkhkBC_N",
        "outputId": "367eef07-4229-4505-b2a5-47a7683bcf80"
      },
      "execution_count": 6,
      "outputs": [
        {
          "output_type": "execute_result",
          "data": {
            "text/plain": [
              "92"
            ]
          },
          "metadata": {},
          "execution_count": 6
        }
      ]
    },
    {
      "cell_type": "code",
      "source": [
        "\n",
        "from langchain_chroma import Chroma\n",
        "\n",
        "# Storing\n",
        "vectorstore = Chroma.from_documents(docs_spl, embedding=embed_model, collection_name=\"groq_rag\") # takes one min to run\n",
        "retriever = vectorstore.as_retriever()\n",
        "print(f\"Documents indexed: {len(docs_spl)}\")"
      ],
      "metadata": {
        "colab": {
          "base_uri": "https://localhost:8080/"
        },
        "id": "kfheTSg4Drk1",
        "outputId": "ef192781-ac0a-416e-e9af-ee9586e3f545"
      },
      "execution_count": 7,
      "outputs": [
        {
          "output_type": "stream",
          "name": "stdout",
          "text": [
            "Documents indexed: 92\n"
          ]
        }
      ]
    },
    {
      "cell_type": "code",
      "source": [
        "await retriever.ainvoke(\"What are the eligibility criteria for applying for a change of branch/ programme?\")\n",
        "\n",
        "# splitting can be improved ... eg \\n is part of a word"
      ],
      "metadata": {
        "colab": {
          "base_uri": "https://localhost:8080/"
        },
        "id": "1lx-1HBACX8q",
        "outputId": "8e7def4f-d793-4976-fadc-1ababb40573d"
      },
      "execution_count": 8,
      "outputs": [
        {
          "output_type": "execute_result",
          "data": {
            "text/plain": [
              "[Document(id='10c149a0-ff0a-412e-81e5-239fc9ab2c76', metadata={'author': 'pritap', 'creationdate': '2025-01-27T11:14:55+05:30', 'creator': 'Microsoft® Word 2016', 'moddate': '2025-01-27T11:14:55+05:30', 'page': 34, 'page_label': '35', 'producer': 'Microsoft® Word 2016', 'source': './ugrulebook.pdf', 'total_pages': 52}, page_content='there are valid requests. \\nE) All changes of branch can b e effected only once at the beginning of the second academic \\nyear. No application for change of branch during the subsequent academic years will be \\nentertained. \\nF) Branch change decisions will be final and will not be reversed. \\nG) To run the LASE programme, the minimum student strength for the LASE programme should \\nbe 10. If less than 10 students are allotted the LASE programme after branch change then \\nthe result will be considered as null and void.'),\n",
              " Document(id='883e3aa9-9612-45ba-9098-008f401f7ddb', metadata={'author': 'pritap', 'creationdate': '2025-01-27T11:14:55+05:30', 'creator': 'Microsoft® Word 2016', 'moddate': '2025-01-27T11:14:55+05:30', 'page': 33, 'page_label': '34', 'producer': 'Microsoft® Word 2016', 'source': './ugrulebook.pdf', 'total_pages': 52}, page_content='34                                      \\nMove to Index \\n8 CHANGE OF BRANCH  \\nThe Senate in its 256th meeting has approved the elimination of Branch Change into any of \\nthe JOSAA administered branches of admission. This is applicable for the students admitted through \\nJEE (Advanced) 2023 onwards. \\n8.1    Conversion to LASE programme (Ref: 252nd Senate Meeting) \\nIn 252nd meeting of the Senate, admission to Liberal Arts, Sciences and Engineering Pro-\\ngramme (LASE) is approved through Branch Change. From Academic year 2022-2023, the LASE pro-\\ngramme is available for eligible students for branch change. All applicants will be assessed based on \\na written test and/ or personal interview and academic performance (CPI) of the student at IIT Bom-\\nbay.  \\nThe students graduated through L ASE curriculum would be awarded a B.S. degree in - (a) \\nNatural Science, or (b) Engineering Science, or (c) Social Science, or (d) Arts and Design, depending \\non the nature of the completed courses / credit requirements. \\nThe student who have applied for LASE programme must meet the following branch change criteria. \\nStudents are eligible to apply for the change of branch/ programme after completing the first two \\nsemesters and before the start of the third semester. \\nA) The Eligibility Criteria for applying for a change of branch/ programme are:  \\n  \\na) Completion of the prescribed course credits in the first two semesters. \\nb) No FR/DX/DR/W grades at the end of the first two regular registered semesters. \\nc) NP grade in NOCS shall not be a bar for applying for a branch change. \\nd) NP grade in GC 101 shall not be a bar for applying for a branch change. \\ne) Students should secure an “eligibility-CPI” of at least 7.0. The “eligibility- CPI” is \\ncalculated taking into account only the following 1st year courses: \\ni. Introduction to HASMED (8 Credits) \\nii. DIC-1 (6 Credits), if applicable \\niii. DIC-2 (6 Credits), if applicable \\niv. Maker Space (MS 101 = 8 Credits)'),\n",
              " Document(id='dc959cbf-3b08-4c44-b332-07aaefe3e149', metadata={'author': 'pritap', 'creationdate': '2025-01-27T11:14:55+05:30', 'creator': 'Microsoft® Word 2016', 'moddate': '2025-01-27T11:14:55+05:30', 'page': 34, 'page_label': '35', 'producer': 'Microsoft® Word 2016', 'source': './ugrulebook.pdf', 'total_pages': 52}, page_content=\"35                                      \\nMove to Index \\nb) While students are allotted seats of general and reserved type during admission, this \\ndata is not used during branch change. Each available seat may be occupied by students of \\nany category. \\nD) An eligible student's request for a shift from branch A to branch B will be considered valid if \\nany one of the   following two sets of criteria are satisfied. \\nSet 1 \\ni. the “Branch-Change-CPI” of the student is at least 9 \\nii. there is a seat available in Branch B \\nSet 2 \\ni. There is a seat available in Branch B. \\nii. The strength in branch A, from which a change is being sought, does not fall below its \\nsanctioned strength by more than 25%. \\niii. There is no student with either (I) higher “Branch -Change-CPI” or (II) same “Branch -\\nChange-CPI” and      higher “overall -CPI” who is currently being denied a branch change \\nfrom any other branch X to branch B due to the strength of branch X falling below its \\nsanctioned strength by more than 25% due to rule (ii).  \\nProcedure \\nAmong all valid requests, students with the highest “Branch-Change-CPI” are considered for \\nshifting first.  \\nIn case more than one student has the same “Branch -Change-CPI” then the “overall -CPI” \\nwill be used to break ties and a student among the above with the highest “overall-CPI” will \\nbe shifted.  \\nIn case there is a tie for both the “Branch-Change-CPI” and the “overall- CPI”, then the fol-\\nlowing will apply: \\nIf a student with “Branch -Change-CPI” x and “overall -CPI” y is shifted from branch A to \\nbranch B then every student with “Branch-Change-CPI” x and “overall-CPI” y with a request \\nfor branch B will be shifted to branch B, even if their request violates (ii) above. If necessary, \\nextra seats will be created to accommodate them. Shifts as above are performed as long as \\nthere are valid requests. \\nE) All changes of branch can b e effected only once at the beginning of the second academic\"),\n",
              " Document(id='3a4a70fd-75ed-4738-a639-767452c00eb1', metadata={'author': 'pritap', 'creationdate': '2025-01-27T11:14:55+05:30', 'creator': 'Microsoft® Word 2016', 'moddate': '2025-01-27T11:14:55+05:30', 'page': 43, 'page_label': '44', 'producer': 'Microsoft® Word 2016', 'source': './ugrulebook.pdf', 'total_pages': 52}, page_content='44                                      \\nMove to Index \\nto the selected candidates will remain subject to terms and conditions as applicable to usual \\nDD programs and other rules as applicable from time to time. \\nh) The roll no. of the selected list of candidates will remain the same. \\nD. Additional criteria specified by various Academic Units for IDDDP \\na) SJMSOM: \\nI. For B.Tech./B.S. and Dual Degree students. \\nII. Students with CPI of 7.0 at the end of their sixth semester and with no backlog in their UG \\ncourses can apply for the programme. \\nIII. The CPI criteria would be a benchmark and interviews will be conducted as per specializa-\\ntion applied for. \\nIV. The fees applicable to IDDDP students will be the same as that applied for the students in \\n2nd year MBA programme. \\nV. On completion of programme, the students would get B.Tech. Degree in parent department \\nand MBA degree in given specialization. \\nVI. The students would not be eligible for Minor in Management (SJMSOM) \\n \\nb) Environmental Science and Engineering Department: \\nI. A maximum of two students would be permitted to leave the Department for joining IDDD \\nprogrammes. \\nc) Systems and Control Engineering: \\nI. The candidate must satisfy the minimum eligibility criteria prescribed by the Senate. \\nII. A SysCon core faculty member must agree to guide the candidate. \\nIII. In any year, a core faculty member can agree to guide (i.e. recommend) at most one candi-\\ndate applying for the SysCon IDDDP. \\nIV. The candidate must have completed any two courses from the list of SysCon minor courses \\nwithin the first six semesters of the B.Tech. pro gramme and have an average score of at \\nleast 7.5 in these two courses. This requirement can be waived if the student has credited \\nsome equivalent courses in other departments which in their entirety cover the topics cov-\\nered in any two SysCon minor courses.  The average grade requirement for the equivalent')]"
            ]
          },
          "metadata": {},
          "execution_count": 8
        }
      ]
    },
    {
      "cell_type": "code",
      "execution_count": 9,
      "metadata": {
        "id": "oC-Uqa747v7I"
      },
      "outputs": [],
      "source": [
        "from langchain_core.documents import Document\n",
        "from langchain.prompts import ChatPromptTemplate\n",
        "from langchain_core.runnables import RunnablePassthrough\n",
        "from langchain_core.output_parsers import StrOutputParser\n",
        "from typing import List, Dict\n",
        "\n",
        "RAG_SYSTEM_PROMPT = \"\"\"\\\n",
        "You are an assistant for question-answering tasks. \\\n",
        "Use the following pieces of retrieved context given within delimiters to answer the human's questions.\n",
        "```\n",
        "{context}\n",
        "```\n",
        "If you don't know the answer, just say that you don't know.\\\n",
        "\"\"\" # adapted from https://smith.langchain.com/hub/rlm/rag-prompt-llama3\n",
        "\n",
        "RAG_HUMAN_PROMPT = \"{input}\"\n",
        "\n",
        "RAG_PROMPT = ChatPromptTemplate.from_messages([\n",
        "    (\"system\", RAG_SYSTEM_PROMPT),\n",
        "    (\"human\", RAG_HUMAN_PROMPT)\n",
        "])\n",
        "\n",
        "def format_docs(docs: List[Document]):\n",
        "    \"\"\"Format the retrieved documents\"\"\"\n",
        "    return \"\\n\".join(doc.page_content for doc in docs)\n",
        "\n",
        "rag_chain = (\n",
        "    {\n",
        "        \"context\": retriever | format_docs, # Use retriever to retrieve docs from vectorstore -> format the documents into a string\n",
        "        \"input\": RunnablePassthrough() # Propogate the 'input' variable to the next step\n",
        "    }\n",
        "    | RAG_PROMPT # format prompt with 'context' and 'input' variables\n",
        "    | rag_llm # get response from LLM using the formatteed prompt\n",
        "    | StrOutputParser() # Parse through LLM response to get only the string response\n",
        "\n",
        ")"
      ]
    },
    {
      "cell_type": "code",
      "source": [
        "await rag_chain.ainvoke(\"What are the time for holding lectures for first year UG students ?\")\n"
      ],
      "metadata": {
        "colab": {
          "base_uri": "https://localhost:8080/",
          "height": 35
        },
        "id": "zT8htR6ZE9tU",
        "outputId": "7f436c07-fe5b-4134-db2b-7c324ba95381"
      },
      "execution_count": 10,
      "outputs": [
        {
          "output_type": "execute_result",
          "data": {
            "text/plain": [
              "'According to the provided context, the lectures for first-year UG students are to be held only between 8:30 am and 5:30 pm, and only on working days.'"
            ],
            "application/vnd.google.colaboratory.intrinsic+json": {
              "type": "string"
            }
          },
          "metadata": {},
          "execution_count": 10
        }
      ]
    },
    {
      "cell_type": "code",
      "source": [
        "await rag_chain.ainvoke(\"How many candidates does IIT Bombay take in annually ?\")\n"
      ],
      "metadata": {
        "id": "gxD-e6cUKZMe",
        "outputId": "1259ec58-0cfe-4536-cda9-b9b81286c121",
        "colab": {
          "base_uri": "https://localhost:8080/",
          "height": 70
        }
      },
      "execution_count": 11,
      "outputs": [
        {
          "output_type": "execute_result",
          "data": {
            "text/plain": [
              "'According to the provided context, IIT Bombay annually admits:\\n\\n* More than 1000 candidates for undergraduate programmes (B.Tech./Dual Degree and B.S.) through the Joint Entrance Examination (JEE)\\n* More than 30 candidates for B.Des. Programme through the Undergraduate Common Entrance Exam for Design (UCEED)\\n* Around 300 candidates for M.Sc. and M.Sc. Ph.D. Dual Degree programmes\\n* More than 1000 candidates for postgraduate programmes\\n* Around 300 candidates for Ph.D. programmes'"
            ],
            "application/vnd.google.colaboratory.intrinsic+json": {
              "type": "string"
            }
          },
          "metadata": {},
          "execution_count": 11
        }
      ]
    },
    {
      "cell_type": "code",
      "source": [
        "await rag_chain.ainvoke(\"What are the requirements of getting a degree ?\")\n"
      ],
      "metadata": {
        "id": "lStmYq0EKZ0Q",
        "outputId": "03117093-b16a-4b89-eb73-d3161b5d70ea",
        "colab": {
          "base_uri": "https://localhost:8080/",
          "height": 87
        }
      },
      "execution_count": 12,
      "outputs": [
        {
          "output_type": "execute_result",
          "data": {
            "text/plain": [
              "'According to the provided context, the requirements for the degree are:\\n\\na) The student should have taken and passed all the courses prescribed for the degree under the general institutional and departmental requirements.\\nb) The student should have satisfactorily fulfilled other academic requirements such as practical training, NSS/NSO/NCC, work visits, seminar and projects, as specified for the discipline/programme.\\nc) The student should have paid all the Institute dues.\\n\\nAdditionally, the student must complete the academic requirements of the B.Tech. Degree.'"
            ],
            "application/vnd.google.colaboratory.intrinsic+json": {
              "type": "string"
            }
          },
          "metadata": {},
          "execution_count": 12
        }
      ]
    },
    {
      "cell_type": "code",
      "source": [
        "await rag_chain.ainvoke(\"Explain the organisational structure for academic matters.\")\n"
      ],
      "metadata": {
        "id": "TAYHn720KakL",
        "outputId": "0c9b1b82-3e99-47e5-f48f-065121a9eabd",
        "colab": {
          "base_uri": "https://localhost:8080/",
          "height": 139
        }
      },
      "execution_count": 13,
      "outputs": [
        {
          "output_type": "execute_result",
          "data": {
            "text/plain": [
              "'According to the provided context, the organisational structure for academic matters at the Institute is as follows:\\n\\n* The Senate is the supreme body that governs all academic matters of the Institute. It is a statutory body that approves rules and regulations for academic programmes.\\n* The Senate has two Institute-level sub-committees:\\n\\t+ Undergraduate Programmes Committee (UGPC) for undergraduate programmes\\n\\t+ Post-Graduate Programmes Committee (PGPC) for post-graduate programmes\\n* The Dean of Academic Programmes (Dean, AP) and the Associate Dean of Academic Programmes (Associate Dean, AP) are the Conveners & Co-conveners respectively of these committees.\\n* The Senate also has two Institute-level committees for performance and evaluation:\\n\\t+ Undergraduate Academic Performance Evaluation Committee (UGAPEC)\\n\\t+ Postgraduate Academic Performance Evaluation Committee (PGAPEC)\\n* Conveners for these committees are designated from among Senate members.\\n* Each department has two department-level committees:\\n\\t+ Department Undergraduate Committee (DUGC) for undergraduate programmes\\n\\t+ Department Postgraduate Committee (DPGC) for post-graduate programmes\\n* The Head of the Department is the convener of both these departmental committees.\\n* The Senate and its sub-committees also have student representatives.\\n* Administrative backup for all academic matters is provided by the Academic Office, with a Joint/ Deputy Registrar (Academic) as in-charge.\\n\\nAdditionally, each student is assigned a Faculty Adviser from their Department, who guides them on academic matters and helps them complete their courses of study in a timely manner.'"
            ],
            "application/vnd.google.colaboratory.intrinsic+json": {
              "type": "string"
            }
          },
          "metadata": {},
          "execution_count": 13
        }
      ]
    },
    {
      "cell_type": "code",
      "source": [
        "response = await rag_chain.ainvoke(\"What is SPI and what is CPI ? Refer to the Glossary\")\n",
        "print(response)"
      ],
      "metadata": {
        "id": "mAECu158K3QV",
        "outputId": "c9d8ba5d-d711-4393-a448-fc734d567276",
        "colab": {
          "base_uri": "https://localhost:8080/"
        }
      },
      "execution_count": 16,
      "outputs": [
        {
          "output_type": "stream",
          "name": "stdout",
          "text": [
            "According to the provided context, SPI stands for Semester Performance Index, which is a number that indicates the performance of a student in a semester. It is the weighted average of the grade points obtained in all the courses registered by the student during the semester.\n",
            "\n",
            "CPI stands for Cumulative Performance Index, which is an up-to-date assessment of the overall performance of a student from the time they entered the Institute. It is calculated in a manner similar to the calculation of SPI, considering all the courses registered by the student towards the minimum requirement of the degree they have enrolled for, since they entered the Institute.\n"
          ]
        }
      ]
    },
    {
      "cell_type": "code",
      "source": [
        "def add_docs(path):\n",
        "    loader = PyPDFLoader(file_path=path)\n",
        "    docs = loader.load_and_split(text_splitter=RecursiveCharacterTextSplitter(chunk_size = 1000,\n",
        "                                                                                chunk_overlap = 200,\n",
        "                                                                                length_function = len,\n",
        "                                                                                is_separator_regex=False))\n",
        "    vectorstore = Chroma.from_documents(documents=docs,embedding= embed_model, persist_directory=\"output/general_knowledge\")\n",
        "    return vectorstore\n",
        "\n",
        "def answer_query(message, chat_history):\n",
        "    vectorstore = Chroma(persist_directory=\"output/general_knowledge\", embedding_function=embed_model)\n",
        "    retriever = vectorstore.as_retriever()\n",
        "\n",
        "    response = rag_chain.invoke()\n",
        "    chat_history.append(response)\n",
        "    return \"\", chat_history\n"
      ],
      "metadata": {
        "id": "k4Db3CS4a0Ao"
      },
      "execution_count": 17,
      "outputs": []
    },
    {
      "cell_type": "code",
      "source": [
        "import gradio as gr\n",
        "import groq_gradio\n",
        "\n",
        "with gr.Blocks() as demo:\n",
        "    gr.HTML(\"<h1 align = 'center'>Smart Assistant</h1>\")\n",
        "\n",
        "    with gr.Row():\n",
        "\n",
        "        upload_files = gr.File(label = 'Upload a PDF',file_types=['.pdf'],file_count='single')\n",
        "\n",
        "    chatbot = gr.Chatbot()\n",
        "    msg = gr.Textbox(label = \"Enter your question here\")\n",
        "    upload_files.upload(add_docs,upload_files)\n",
        "    msg.submit(answer_query,[msg,chatbot],[msg,chatbot])"
      ],
      "metadata": {
        "id": "Wg2vVt7NFKdV"
      },
      "execution_count": 18,
      "outputs": []
    },
    {
      "cell_type": "code",
      "source": [],
      "metadata": {
        "id": "QO7oEbYpgkbN"
      },
      "execution_count": null,
      "outputs": []
    }
  ],
  "metadata": {
    "kernelspec": {
      "display_name": "Python 3",
      "language": "python",
      "name": "python3"
    },
    "language_info": {
      "codemirror_mode": {
        "name": "ipython",
        "version": 3
      },
      "file_extension": ".py",
      "mimetype": "text/x-python",
      "name": "python",
      "nbconvert_exporter": "python",
      "pygments_lexer": "ipython3",
      "version": "3.13.1"
    },
    "colab": {
      "provenance": []
    }
  },
  "nbformat": 4,
  "nbformat_minor": 0
}